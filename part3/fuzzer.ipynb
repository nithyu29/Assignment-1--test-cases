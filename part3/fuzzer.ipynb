{
 "cells": [
  {
   "cell_type": "code",
   "execution_count": 1,
   "metadata": {},
   "outputs": [],
   "source": [
    "import os\n",
    "import random\n",
    "\n",
    "def mutate(data):\n",
    "    mutation_type = random.randint(1, 3)\n",
    "    index = random.randint(0, len(data) - 1)\n",
    "    \n",
    "    if mutation_type == 1:  # Flip a random bit\n",
    "        bit = 1 << random.randint(0, 7)\n",
    "        data[index] ^= bit\n",
    "    elif mutation_type == 2:  # Insert a random byte\n",
    "        data.insert(index, random.randint(0, 255))\n",
    "    else:  # Delete a byte\n",
    "        del data[index]\n",
    "\n",
    "    return data\n",
    "\n",
    "def generate_fuzzer(input_file, output_file):\n",
    "    with open(input_file, 'rb') as f:\n",
    "        data = bytearray(f.read())\n",
    "\n",
    "    mutated_data = mutate(data)\n",
    "\n",
    "    with open(output_file, 'wb') as f:\n",
    "        f.write(mutated_data)\n",
    "\n",
    "if __name__ == \"__main__\":\n",
    "    input_file = '../testcases/valid/crash1.gft'\n",
    "    output_fuzzer1 = 'fuzzer1.gft'\n",
    "    output_fuzzer2 = 'fuzzer2.gft'\n",
    "\n",
    "    generate_fuzzer(input_file, output_fuzzer1)\n",
    "    generate_fuzzer(input_file, output_fuzzer2)\n"
   ]
  }
 ],
 "metadata": {
  "kernelspec": {
   "display_name": "Python 3",
   "language": "python",
   "name": "python3"
  },
  "language_info": {
   "codemirror_mode": {
    "name": "ipython",
    "version": 3
   },
   "file_extension": ".py",
   "mimetype": "text/x-python",
   "name": "python",
   "nbconvert_exporter": "python",
   "pygments_lexer": "ipython3",
   "version": "3.11.2"
  },
  "orig_nbformat": 4
 },
 "nbformat": 4,
 "nbformat_minor": 2
}
